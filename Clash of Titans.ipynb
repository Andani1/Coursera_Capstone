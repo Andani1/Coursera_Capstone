{
    "nbformat_minor": 1, 
    "cells": [
        {
            "source": "# INTRODUCTION", 
            "cell_type": "markdown", 
            "metadata": {
                "collapsed": true
            }
        }, 
        {
            "source": "There are lot of companies that provide the same service or sell the same products around the same areas and that has some disadvantage and advantages, so some of the advantage is that the customer will have options and the companies will keep the standard up just to stand out of their competitors. As a new business person with a new brand, competition can damage/kill your business as people tend to go for what they are used to. So it becomes a very important to locate your business and also to check the target market, i.e. knowing where your competitors are located is important as it will help you locate yours .In this project we are going to search for a location where there are few fast food shops, preferably coffee shops so that it can help a new business to situated where there\u2019s less competition.", 
            "cell_type": "markdown", 
            "metadata": {}
        }, 
        {
            "source": "# DATA SECTION", 
            "cell_type": "markdown", 
            "metadata": {}
        }, 
        {
            "source": "To accomplish this we going to need a data of all the businesses in Toronto and perform the analysis. We going to examine the types of the businesses and filter out the fast food shops and perform analysis to see the ones that are trending together with the ratings, in order to be able to identify the strong and the weak competitors. Moreover, then we going to get the data of two of the nearest venues then predict the next percentages that next time the customer will come to our  new shop (i.e not return to our competitor).Assumption would be that if the customer is not returning to the old shop then the customer is coming to the new shop, the prediction will be done using the Decision tree, SVM,KNN and logistic.", 
            "cell_type": "markdown", 
            "metadata": {}
        }
    ], 
    "metadata": {
        "kernelspec": {
            "display_name": "Python 3.5", 
            "name": "python3", 
            "language": "python"
        }, 
        "language_info": {
            "mimetype": "text/x-python", 
            "nbconvert_exporter": "python", 
            "version": "3.5.5", 
            "name": "python", 
            "file_extension": ".py", 
            "pygments_lexer": "ipython3", 
            "codemirror_mode": {
                "version": 3, 
                "name": "ipython"
            }
        }
    }, 
    "nbformat": 4
}